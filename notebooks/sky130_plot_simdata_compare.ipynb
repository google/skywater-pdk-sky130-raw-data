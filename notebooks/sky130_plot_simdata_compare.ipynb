{
 "cells": [
  {
   "cell_type": "code",
   "execution_count": 1,
   "metadata": {},
   "outputs": [],
   "source": [
    "import matplotlib.pyplot as plt\n",
    "import pandas as pd\n",
    "import ipywidgets as widgets\n",
    "from matplotlib.ticker import EngFormatter\n",
    "from matplotlib.colors import ListedColormap\n",
    "import matplotlib as mpl\n",
    "import re\n",
    "import numpy as np\n",
    "from jinja2 import Template\n",
    "from subprocess import check_call\n",
    "import concurrent.futures\n",
    "import multiprocessing as mp\n",
    "import glob"
   ]
  },
  {
   "cell_type": "code",
   "execution_count": 2,
   "metadata": {},
   "outputs": [],
   "source": [
    "# Reading Pad Documentation csv file to extract parameters\n",
    "doc_df = pd.read_csv(\"pad_documentation/Pad_documentation _for _SKY130_ MPW_Manufacturing.csv\")\n",
    "nfet_01v8_df = doc_df.loc[doc_df[\"New Style Name\"] == \"nfet_01v8\"]"
   ]
  },
  {
   "cell_type": "code",
   "execution_count": 3,
   "metadata": {},
   "outputs": [],
   "source": [
    "# curve_type must be one of ['ID_VDS', 'ID_VGS']\n",
    "curve_type = \"ID_VDS\""
   ]
  },
  {
   "cell_type": "code",
   "execution_count": 20,
   "metadata": {},
   "outputs": [],
   "source": [
    "# Generating sim data\n",
    "def simulate_device(netlist_path):\n",
    "    check_call(f\"ngspice -b {netlist_path} -o output.log  \", shell= True)\n",
    "\n",
    "workers_count = 2 * mp.cpu_count()\n",
    "nmos_netlist = \"templates/nfet_01v8_template.cir\"\n",
    "loc_sweep = list()\n",
    "s_pin_sweep = list()\n",
    "d_pin_sweep = list()\n",
    "\n",
    "if curve_type == \"ID_VDS\":\n",
    "    sim_cmd = \"DC vds 0 1.8 0.05\"\n",
    "\n",
    "elif curve_type == \"ID_VGS\":\n",
    "    sim_cmd = \"DC vgs 0 1.8 0.05\"\n",
    "\n",
    "with concurrent.futures.ProcessPoolExecutor(max_workers=workers_count) as executor:\n",
    "    for i, row in nfet_01v8_df.iterrows():\n",
    "        sim_data = row[\"Description\"]\n",
    "        subs = [';', 'nshort', 'in DNW', 'contact-gate=\\d+.\\d+um']\n",
    "        for element in subs:\n",
    "            sim_data = re.sub(element, ' ' ,sim_data)\n",
    "\n",
    "        # get pins loc for each file\n",
    "        pin1 = int()\n",
    "        pin2 = int()\n",
    "        for c in row.index:\n",
    "            if row[c] == \"s\":\n",
    "                pin1 = int(re.sub(\"Pin \", '', c))\n",
    "            elif row[c] == \"d\":\n",
    "                pin2 = int(re.sub(\"Pin \", '', c))\n",
    "\n",
    "        # saving sweep data\n",
    "        s_pin_sweep.append(int(pin1))\n",
    "        d_pin_sweep.append(int(pin2))\n",
    "        if row[\"Mod #\"] == row[\"Mod #\"]:\n",
    "            loc_sweep.append(int(row[\"Mod #\"]))\n",
    "        \n",
    "        # get width, length, multiplier\n",
    "        width = re.findall(\"w=\\d*.\\d*\", sim_data)[0]\n",
    "        width = re.sub(\"=\", \"\", width)\n",
    "        length = re.findall(\"l=\\d*.\\d*\", sim_data)[0]\n",
    "        length = re.sub(\"=\", \"\", length)\n",
    "        multiplier = re.findall(\"m=\\d*\", sim_data)[0]\n",
    "        multiplier = re.sub(\"=\", \"\", multiplier)\n",
    "\n",
    "        # naming circuit, csv files\n",
    "        file_name = f\"nfet_01v8_{loc_sweep[-1]}_{pin1}_{pin2}\"\n",
    "        netlist_path = f\"{file_name}.cir\"\n",
    "        csv_path = f\"{file_name}.csv\"\n",
    "\n",
    "        with open(nmos_netlist) as f:\n",
    "                    tmpl = Template(f.read())\n",
    "                    with open(netlist_path, \"w\") as netlist:\n",
    "                        netlist.write(\n",
    "                            tmpl.render(\n",
    "                                csv_path=csv_path,\n",
    "                                dimensions=sim_data,\n",
    "                                sim_cmd=sim_cmd,\n",
    "                            )\n",
    "                        )\n",
    "        \n",
    "        executor.submit(simulate_device, netlist_path)"
   ]
  },
  {
   "cell_type": "code",
   "execution_count": 5,
   "metadata": {},
   "outputs": [
    {
     "data": {
      "text/plain": [
       "0"
      ]
     },
     "execution_count": 5,
     "metadata": {},
     "output_type": "execute_result"
    }
   ],
   "source": [
    "# clean unused files\n",
    "check_call(\"rm -f nfet_*.cir\", shell=True)\n",
    "check_call(\"rm -f output.log\", shell=True)"
   ]
  },
  {
   "cell_type": "code",
   "execution_count": 6,
   "metadata": {},
   "outputs": [],
   "source": [
    "# Generating raw_data\n",
    "#check_call(f\"python3 raw_gen.py --curve_type={curve_type}\", shell=True)\n",
    "raw_df = pd.read_csv(\"raw_data.csv\")"
   ]
  },
  {
   "cell_type": "code",
   "execution_count": 25,
   "metadata": {},
   "outputs": [],
   "source": [
    "# widgets settings \n",
    "loc_sweep = [*set(loc_sweep)]\n",
    "s_pin_sweep = [*set(s_pin_sweep)]\n",
    "d_pin_sweep = [*set(d_pin_sweep)]\n",
    "\n",
    "loc = widgets.Dropdown(\n",
    "    options=loc_sweep,\n",
    "    value=loc_sweep[0],\n",
    "    description='loc:',\n",
    "    disabled=False,\n",
    ")\n",
    "s_pin = widgets.Dropdown(\n",
    "    options=s_pin_sweep,\n",
    "    value=s_pin_sweep[0],\n",
    "    description='s-pin:',\n",
    "    disabled=False,\n",
    ")\n",
    "d_pin = widgets.Dropdown(\n",
    "    options=d_pin_sweep,\n",
    "    value=d_pin_sweep[0],\n",
    "    description='d-pin:',\n",
    "    disabled=False,\n",
    ")"
   ]
  },
  {
   "cell_type": "code",
   "execution_count": 26,
   "metadata": {},
   "outputs": [
    {
     "data": {
      "application/vnd.jupyter.widget-view+json": {
       "model_id": "dee6c92ab6fa49af944a5d59ae810b4b",
       "version_major": 2,
       "version_minor": 0
      },
      "text/plain": [
       "interactive(children=(Dropdown(description='loc:', options=(8008, 8392, 5290, 8434, 8436, 8701), value=8008), …"
      ]
     },
     "metadata": {},
     "output_type": "display_data"
    },
    {
     "data": {
      "text/plain": [
       "<function __main__.plot(loc, s_pin, d_pin)>"
      ]
     },
     "execution_count": 26,
     "metadata": {},
     "output_type": "execute_result"
    }
   ],
   "source": [
    "blue_range =  ListedColormap(mpl.cm.Blues(np.linspace(0.3, 0.8, 256)))\n",
    "red_range = ListedColormap(mpl.cm.Reds(np.linspace(0.3, 0.8, 256)))\n",
    "\n",
    "sim_files = glob.glob(f\"nfet_01v8*.csv\")\n",
    "def get_sim_df(loc, s_pin, d_pin):\n",
    "\n",
    "    for file in sim_files:\n",
    "        file_sp = file.split(\"_\")\n",
    "        d_read = int(file_sp[4].split(\".\")[0])\n",
    "        \n",
    "        if loc == int(file_sp[2]) and s_pin == int(file_sp[3]) and d_pin == d_read:\n",
    "            csv_file = file\n",
    "            print(\"test\")\n",
    "            break\n",
    "    sim_df = pd.read_csv(csv_file, delimiter=r\"\\s+\") \n",
    "    sim_df.drop(\n",
    "               sim_df.columns[[x for x in range(0, sim_df.shape[1]) if x % 2 == 0 and x != 0]],\n",
    "               inplace=True,\n",
    "               axis=1,\n",
    "            )\n",
    "    sim_df.columns = [\n",
    "        \"VDS\",\n",
    "        \"VGS\",\n",
    "        \"VSB\",\n",
    "        \"ID\",\n",
    "    ]\n",
    "    return sim_df\n",
    "\n",
    "# plotting data:\n",
    "def plot(loc, s_pin, d_pin):\n",
    "    tdf_sim= get_sim_df(loc, s_pin, d_pin)\n",
    "    tdf_raw = raw_df.loc[(raw_df[\"loc\"] == loc) &  (raw_df[\"s_pin\"] == s_pin)\n",
    "                 & (raw_df[\"d_pin\"] == d_pin)]\n",
    "\n",
    "    id_df_sim = tdf_sim[[\"VDS\", \"VGS\", \"ID\"]].copy()\n",
    "    id_df_raw = tdf_raw[[\"VDS\", \"VGS\", \"ID\"]].copy()\n",
    "    \n",
    "    if curve_type == \"ID_VDS\":\n",
    "        id_df_sim.set_index(\"VDS\", inplace=True)\n",
    "        id_df_sim.sort_index(inplace=True)\n",
    "        id_df_raw.set_index(\"VDS\", inplace=True)\n",
    "        id_df_raw.sort_index(inplace=True)\n",
    "        id_df_sim = pd.pivot_table(id_df_sim.reset_index(),\n",
    "                                   values=\"ID\",\n",
    "                                   index=\"VDS\",\n",
    "                                   columns=[\"VGS\"])\n",
    "        ax = id_df_sim.plot(colormap=blue_range, grid=True, figsize=(12,6))\n",
    "        id_df_raw = pd.pivot_table(id_df_raw.reset_index(),\n",
    "                                   values=\"ID\",\n",
    "                                   index=\"VDS\",\n",
    "                                   columns=[\"VGS\"])\n",
    "        id_df_raw.plot(colormap=red_range, ax=ax)\n",
    "        plt.legend(title= \"VGS\", loc=0)\n",
    "        volt_formatter = EngFormatter(unit='V')\n",
    "        amp_formatter = EngFormatter(unit='A')\n",
    "        ax.xaxis.set_major_formatter(volt_formatter)\n",
    "        ax.yaxis.set_major_formatter(amp_formatter)\n",
    "        plt.title(f\"IDS vs VDS - Simulated (Blues) - Measured (Reds)\")\n",
    "    elif curve_type == \"ID_VGS\":\n",
    "        id_df_sim.set_index(\"VGS\", inplace=True)\n",
    "        id_df_sim.sort_index(inplace=True)\n",
    "        id_df_raw.set_index(\"VGS\", inplace=True)\n",
    "        id_df_raw.sort_index(inplace=True)\n",
    "        id_df_sim = pd.pivot_table(id_df_sim.reset_index(),\n",
    "                                   values=\"ID\",\n",
    "                                   index=\"VGS\",\n",
    "                                   columns=[\"VDS\"])\n",
    "        ax = id_df_sim.plot(colormap=blue_range, grid=True, figsize=(12,6))\n",
    "        id_df_raw = pd.pivot_table(id_df_raw.reset_index(),\n",
    "                                   values=\"ID\",\n",
    "                                   index=\"VGS\",\n",
    "                                   columns=[\"VDS\"])\n",
    "        id_df_raw.plot(colormap=red_range, ax=ax)\n",
    "        plt.legend(title= \"VDS\", loc=0)\n",
    "        volt_formatter = EngFormatter(unit='V')\n",
    "        amp_formatter = EngFormatter(unit='A')\n",
    "        ax.xaxis.set_major_formatter(volt_formatter)\n",
    "        ax.yaxis.set_major_formatter(amp_formatter)\n",
    "        plt.title(f\"IDS vs VGS - Simulated (Blues) - Measured (Reds)\")\n",
    "    plt.ylabel(\"IDS\")\n",
    "    \n",
    "    \n",
    "# interactive mode\n",
    "widgets.interact(plot, loc=loc, s_pin=s_pin, d_pin=d_pin)"
   ]
  }
 ],
 "metadata": {
  "kernelspec": {
   "display_name": "py3",
   "language": "python",
   "name": "python3"
  },
  "language_info": {
   "codemirror_mode": {
    "name": "ipython",
    "version": 3
   },
   "file_extension": ".py",
   "mimetype": "text/x-python",
   "name": "python",
   "nbconvert_exporter": "python",
   "pygments_lexer": "ipython3",
   "version": "3.10.6"
  },
  "orig_nbformat": 4
 },
 "nbformat": 4,
 "nbformat_minor": 2
}
